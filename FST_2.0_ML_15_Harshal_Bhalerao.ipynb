{
 "cells": [
  {
   "cell_type": "code",
   "execution_count": 1,
   "id": "ff015dda",
   "metadata": {},
   "outputs": [],
   "source": [
    "import pandas as pd\n",
    "import numpy as np\n",
    "import seaborn as sns"
   ]
  },
  {
   "cell_type": "code",
   "execution_count": 3,
   "id": "e7096a45",
   "metadata": {},
   "outputs": [],
   "source": [
    "#df"
   ]
  },
  {
   "cell_type": "code",
   "execution_count": 87,
   "id": "710bd1b0",
   "metadata": {},
   "outputs": [
    {
     "name": "stdout",
     "output_type": "stream",
     "text": [
      "The sum all the n numbers: 98\n"
     ]
    }
   ],
   "source": [
    "#Q1.\n",
    "#python program to display the sum of n numbers using the list\n",
    "H = [1,12,13,14,15,16,17,10]\n",
    "\n",
    "sum = 0\n",
    "\n",
    "for i in H:\n",
    "    sum = sum + i\n",
    "    \n",
    "print(\"The sum all the n numbers:\", sum)\n"
   ]
  },
  {
   "cell_type": "code",
   "execution_count": 83,
   "id": "6f3a7b95",
   "metadata": {},
   "outputs": [
    {
     "name": "stdout",
     "output_type": "stream",
     "text": [
      "{'India': 5, 'is': 2, 'becomes': 7, 'the': 3, 'most': 4, 'population': 10, 'country:': 8}\n"
     ]
    }
   ],
   "source": [
    "#Q2\n",
    "#use a dictionary comprehension to count the length of each word in a sentences\n",
    "\n",
    "country = \"India is becomes the most population country:\"\n",
    "\n",
    "word_lengths = {word: len(word) for word in country.split()}\n",
    "\n",
    "print(word_lengths)"
   ]
  },
  {
   "cell_type": "code",
   "execution_count": 52,
   "id": "09864a11",
   "metadata": {},
   "outputs": [
    {
     "name": "stdout",
     "output_type": "stream",
     "text": [
      "**Welcome to State bank of India:**\n",
      "\n",
      "Enter your 4 digit pin Number:2525\n",
      "Please choose transaction: \n",
      "1-Withdrow \n",
      "2-Balance Enquiry \n",
      "3-Fast-Cash \n",
      "Please choose transaction:1\n",
      "Enter withdrowl amount:3000\n",
      "Please take youe amount: 3000 \n",
      "Balance: 7000\n"
     ]
    }
   ],
   "source": [
    "#Q3\n",
    "#Create an application using python which can perform the operation mentioned in the below\n",
    "print('**Welcome to State bank of India:**\\n')\n",
    "\n",
    "Balance = 10000\n",
    "\n",
    "name = int(input(\"Enter your 4 digit pin Number:\"))\n",
    "\n",
    "choice = int(input(\"Please choose transaction: \\n1-Withdrow \\n2-Balance Enquiry \\n3-Fast-Cash \\nPlease choose transaction:\"))\n",
    "\n",
    "if choice==1:\n",
    "    a = int(input(\"Enter withdrowl amount:\"))\n",
    "    Balance = Balance-a\n",
    "    print(\"Please take youe amount:\", a, \"\\nBalance:\",Balance)\n",
    "elif choice==2:\n",
    "    print(\"Your Balance is:\", Balance)\n",
    "elif choice==3:\n",
    "    pass\n",
    "else:\n",
    "    print(\"Wrong choice\")"
   ]
  },
  {
   "cell_type": "code",
   "execution_count": 81,
   "id": "9d3104ca",
   "metadata": {},
   "outputs": [
    {
     "name": "stdout",
     "output_type": "stream",
     "text": [
      "Statistics=0.899, p=0.402\n",
      "Sample looks Gaussian (fail to reject H0)\n"
     ]
    }
   ],
   "source": [
    "#Q4\n",
    "#Tests whether a data sample has Gaussian distribution\n",
    "from scipy.stats import shapiro\n",
    "\n",
    "# generate some data\n",
    "data = [0.39, 0.18, 0.20, 0.43, 0.73]\n",
    "# we are doing here the hypothese and null hypothesis\n",
    "# H0: the data is normally distributed\n",
    "# H1: the data is not normally distributed\n",
    "alpha = 0.05\n",
    "\n",
    "# perform the Shapiro-Wilk test\n",
    "stat, p = shapiro(data)\n",
    "\n",
    "# print the results\n",
    "print('Statistics=%.3f, p=%.3f' % (stat, p))\n",
    "if p > alpha:\n",
    "    print('Sample looks Gaussian (fail to reject H0)')\n",
    "else:\n",
    "    print('Sample does not look Gaussian (reject H0)')"
   ]
  },
  {
   "cell_type": "code",
   "execution_count": 54,
   "id": "1cd8ae56",
   "metadata": {},
   "outputs": [],
   "source": [
    "import pandas as pd\n",
    "import numpy as np\n",
    "import seaborn as sns\n",
    "import matplotlib.pyplot as plt"
   ]
  },
  {
   "cell_type": "code",
   "execution_count": 55,
   "id": "2ba39d58",
   "metadata": {},
   "outputs": [],
   "source": [
    "df = pd.read_csv('CardioGoodFitness.csv')\n"
   ]
  },
  {
   "cell_type": "code",
   "execution_count": 56,
   "id": "167454bc",
   "metadata": {},
   "outputs": [],
   "source": [
    "#df.head()\n"
   ]
  },
  {
   "cell_type": "code",
   "execution_count": 57,
   "id": "13a4036b",
   "metadata": {},
   "outputs": [],
   "source": [
    "#df.shape"
   ]
  },
  {
   "cell_type": "code",
   "execution_count": 58,
   "id": "e8cda137",
   "metadata": {},
   "outputs": [],
   "source": [
    "#df.describe()"
   ]
  },
  {
   "cell_type": "code",
   "execution_count": 59,
   "id": "d4a45690",
   "metadata": {},
   "outputs": [
    {
     "data": {
      "text/html": [
       "<div>\n",
       "<style scoped>\n",
       "    .dataframe tbody tr th:only-of-type {\n",
       "        vertical-align: middle;\n",
       "    }\n",
       "\n",
       "    .dataframe tbody tr th {\n",
       "        vertical-align: top;\n",
       "    }\n",
       "\n",
       "    .dataframe thead th {\n",
       "        text-align: right;\n",
       "    }\n",
       "</style>\n",
       "<table border=\"1\" class=\"dataframe\">\n",
       "  <thead>\n",
       "    <tr style=\"text-align: right;\">\n",
       "      <th></th>\n",
       "      <th>Age</th>\n",
       "      <th>Education</th>\n",
       "      <th>Usage</th>\n",
       "      <th>Fitness</th>\n",
       "      <th>Income</th>\n",
       "      <th>Miles</th>\n",
       "    </tr>\n",
       "  </thead>\n",
       "  <tbody>\n",
       "    <tr>\n",
       "      <th>count</th>\n",
       "      <td>180.000000</td>\n",
       "      <td>180.000000</td>\n",
       "      <td>180.000000</td>\n",
       "      <td>180.000000</td>\n",
       "      <td>180.000000</td>\n",
       "      <td>180.000000</td>\n",
       "    </tr>\n",
       "    <tr>\n",
       "      <th>mean</th>\n",
       "      <td>28.788889</td>\n",
       "      <td>15.572222</td>\n",
       "      <td>3.455556</td>\n",
       "      <td>3.311111</td>\n",
       "      <td>53719.577778</td>\n",
       "      <td>103.194444</td>\n",
       "    </tr>\n",
       "    <tr>\n",
       "      <th>std</th>\n",
       "      <td>6.943498</td>\n",
       "      <td>1.617055</td>\n",
       "      <td>1.084797</td>\n",
       "      <td>0.958869</td>\n",
       "      <td>16506.684226</td>\n",
       "      <td>51.863605</td>\n",
       "    </tr>\n",
       "    <tr>\n",
       "      <th>min</th>\n",
       "      <td>18.000000</td>\n",
       "      <td>12.000000</td>\n",
       "      <td>2.000000</td>\n",
       "      <td>1.000000</td>\n",
       "      <td>29562.000000</td>\n",
       "      <td>21.000000</td>\n",
       "    </tr>\n",
       "    <tr>\n",
       "      <th>25%</th>\n",
       "      <td>24.000000</td>\n",
       "      <td>14.000000</td>\n",
       "      <td>3.000000</td>\n",
       "      <td>3.000000</td>\n",
       "      <td>44058.750000</td>\n",
       "      <td>66.000000</td>\n",
       "    </tr>\n",
       "    <tr>\n",
       "      <th>50%</th>\n",
       "      <td>26.000000</td>\n",
       "      <td>16.000000</td>\n",
       "      <td>3.000000</td>\n",
       "      <td>3.000000</td>\n",
       "      <td>50596.500000</td>\n",
       "      <td>94.000000</td>\n",
       "    </tr>\n",
       "    <tr>\n",
       "      <th>75%</th>\n",
       "      <td>33.000000</td>\n",
       "      <td>16.000000</td>\n",
       "      <td>4.000000</td>\n",
       "      <td>4.000000</td>\n",
       "      <td>58668.000000</td>\n",
       "      <td>114.750000</td>\n",
       "    </tr>\n",
       "    <tr>\n",
       "      <th>max</th>\n",
       "      <td>50.000000</td>\n",
       "      <td>21.000000</td>\n",
       "      <td>7.000000</td>\n",
       "      <td>5.000000</td>\n",
       "      <td>104581.000000</td>\n",
       "      <td>360.000000</td>\n",
       "    </tr>\n",
       "  </tbody>\n",
       "</table>\n",
       "</div>"
      ],
      "text/plain": [
       "              Age   Education       Usage     Fitness         Income  \\\n",
       "count  180.000000  180.000000  180.000000  180.000000     180.000000   \n",
       "mean    28.788889   15.572222    3.455556    3.311111   53719.577778   \n",
       "std      6.943498    1.617055    1.084797    0.958869   16506.684226   \n",
       "min     18.000000   12.000000    2.000000    1.000000   29562.000000   \n",
       "25%     24.000000   14.000000    3.000000    3.000000   44058.750000   \n",
       "50%     26.000000   16.000000    3.000000    3.000000   50596.500000   \n",
       "75%     33.000000   16.000000    4.000000    4.000000   58668.000000   \n",
       "max     50.000000   21.000000    7.000000    5.000000  104581.000000   \n",
       "\n",
       "            Miles  \n",
       "count  180.000000  \n",
       "mean   103.194444  \n",
       "std     51.863605  \n",
       "min     21.000000  \n",
       "25%     66.000000  \n",
       "50%     94.000000  \n",
       "75%    114.750000  \n",
       "max    360.000000  "
      ]
     },
     "execution_count": 59,
     "metadata": {},
     "output_type": "execute_result"
    }
   ],
   "source": [
    "#Perform descriptive statistics\n",
    "df.describe()"
   ]
  },
  {
   "cell_type": "code",
   "execution_count": 60,
   "id": "70643330",
   "metadata": {},
   "outputs": [
    {
     "name": "stdout",
     "output_type": "stream",
     "text": [
      "Gender\n",
      "Female    3.026316\n",
      "Male      3.519231\n",
      "Name: Fitness, dtype: float64\n"
     ]
    }
   ],
   "source": [
    "mean_fitness_by_gender = df.groupby('Gender')['Fitness'].mean()        #Male denoted by 1 and female denote by 0.\n",
    "print(mean_fitness_by_gender)"
   ]
  },
  {
   "cell_type": "code",
   "execution_count": 61,
   "id": "50a89dac",
   "metadata": {},
   "outputs": [
    {
     "name": "stdout",
     "output_type": "stream",
     "text": [
      "MaritalStatus\n",
      "Partnered    3.271028\n",
      "Single       3.369863\n",
      "Name: Fitness, dtype: float64\n"
     ]
    }
   ],
   "source": [
    "mean_fitness_by_marital_status = df.groupby('MaritalStatus')['Fitness'].mean() # single is denoted by 1 and partnered is denoted by 0.\n",
    "print(mean_fitness_by_marital_status)"
   ]
  },
  {
   "cell_type": "code",
   "execution_count": 62,
   "id": "58ec9982",
   "metadata": {},
   "outputs": [
    {
     "name": "stdout",
     "output_type": "stream",
     "text": [
      "TM195    73\n",
      "TM498    55\n",
      "TM798    35\n",
      "Name: Product, dtype: int64\n"
     ]
    }
   ],
   "source": [
    "df_below_40 = df[df['Age'] < 40]\n",
    "# count the number of occurrences of each product in the subset\n",
    "product_counts_below_40 = df_below_40['Product'].value_counts()\n",
    "print(product_counts_below_40)"
   ]
  },
  {
   "cell_type": "code",
   "execution_count": 70,
   "id": "7a083971",
   "metadata": {},
   "outputs": [
    {
     "name": "stdout",
     "output_type": "stream",
     "text": [
      "       Name  Age\n",
      "0   Harshal   20\n",
      "1  Jitendra   21\n",
      "2   Saifali   22\n"
     ]
    }
   ],
   "source": [
    "#Q5\n",
    "#Create Data Frame from a list, array and dictionary.\n",
    "#List\n",
    "import pandas  as pd\n",
    "List = [['Harshal', 20], ['Jitendra', 21], ['Saifali', 22]]\n",
    "df1 = pd.DataFrame(List, columns=['Name', 'Age'])\n",
    "print(df1)"
   ]
  },
  {
   "cell_type": "code",
   "execution_count": 63,
   "id": "f7529780",
   "metadata": {},
   "outputs": [
    {
     "name": "stdout",
     "output_type": "stream",
     "text": [
      "     Name Age\n",
      "0  Akshay  21\n",
      "1    Ajay  22\n",
      "2    Aman  23\n"
     ]
    }
   ],
   "source": [
    "#Array\n",
    "Array = np.array([['Akshay', 21], ['Ajay', 22], ['Aman', 23]])\n",
    "df2=pd.DataFrame(Array, columns=['Name', 'Age'])\n",
    "print(df2)"
   ]
  },
  {
   "cell_type": "code",
   "execution_count": 66,
   "id": "6ee4395d",
   "metadata": {},
   "outputs": [
    {
     "name": "stdout",
     "output_type": "stream",
     "text": [
      "       Name  Salary\n",
      "0   Harshal   25000\n",
      "1   saifali   30000\n",
      "2  jitendra   35000\n"
     ]
    }
   ],
   "source": [
    "#Dictionary\n",
    "Dict = {'Name': ['Harshal', 'saifali', 'jitendra'], 'Salary': [25000, 30000, 35000]}\n",
    "df3 = pd.DataFrame(Dict)\n",
    "print(df3)"
   ]
  },
  {
   "cell_type": "code",
   "execution_count": null,
   "id": "59141ecd",
   "metadata": {},
   "outputs": [],
   "source": []
  }
 ],
 "metadata": {
  "kernelspec": {
   "display_name": "Python 3 (ipykernel)",
   "language": "python",
   "name": "python3"
  },
  "language_info": {
   "codemirror_mode": {
    "name": "ipython",
    "version": 3
   },
   "file_extension": ".py",
   "mimetype": "text/x-python",
   "name": "python",
   "nbconvert_exporter": "python",
   "pygments_lexer": "ipython3",
   "version": "3.9.13"
  }
 },
 "nbformat": 4,
 "nbformat_minor": 5
}
